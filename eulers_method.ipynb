{
 "cells": [
  {
   "cell_type": "markdown",
   "metadata": {},
   "source": [
    "# Euler's method"
   ]
  },
  {
   "cell_type": "markdown",
   "metadata": {},
   "source": [
    "These examples are adapted from Sage wiki: https://wiki.sagemath.org/SageWiki"
   ]
  },
  {
   "cell_type": "code",
   "execution_count": 1,
   "metadata": {},
   "outputs": [],
   "source": [
    "x,y = var('x,y')"
   ]
  },
  {
   "cell_type": "markdown",
   "metadata": {},
   "source": [
    "## *Comparing Euler's method to the exact solution*"
   ]
  },
  {
   "cell_type": "markdown",
   "metadata": {},
   "source": [
    "The following cell implements Euler's method and compares the approximate solution obtained with it (blue) to the exact solution (red)."
   ]
  },
  {
   "cell_type": "code",
   "execution_count": 19,
   "metadata": {},
   "outputs": [
    {
     "data": {
      "application/vnd.jupyter.widget-view+json": {
       "model_id": "dbcd8c402cea4dc9b2372e104f42d254",
       "version_major": 2,
       "version_minor": 0
      },
      "text/plain": [
       "Interactive function <function euler_method at 0x7fc8de2beb00> with 6 widgets\n",
       "  y_exact_in: TransformText(valu…"
      ]
     },
     "metadata": {},
     "output_type": "display_data"
    }
   ],
   "source": [
    "@interact\n",
    "def euler_method(\n",
    "    y_exact_in = input_box('exp(x)', type = str, label = 'Exact sln = '),\n",
    "    y_prime_in = input_box('exp(x)', type = str, label = \"y' = \"),\n",
    "    start = input_box(0.0, label = 'x start: '),\n",
    "    startval = input_box(1.0, label = 'y start: '),\n",
    "    stop = input_box(3.0, label = 'x stop: '),\n",
    "    nsteps = slider([2^m for m in range(0,10)], default = 10, label = '# of steps: '),\n",
    "):\n",
    "    y_exact = lambda x: eval(y_exact_in)\n",
    "#     dy/dx = F(x,y)\n",
    "    y_prime = lambda x,y: eval(y_prime_in)\n",
    "    stepsize = float((stop-start)/nsteps)\n",
    "    sol = [startval]+[0.0]*nsteps\n",
    "    xvals = [start]+[0.0]*nsteps\n",
    "    for step in range(nsteps):\n",
    "        sol[step+1] = sol[step] + stepsize*y_prime(xvals[step],sol[step])\n",
    "        xvals[step+1] = xvals[step] + stepsize\n",
    "    sol_max = max(sol + [find_local_maximum(y_exact,start,stop)[0]])\n",
    "    sol_min = min(sol + [find_local_minimum(y_exact,start,stop)[0]])\n",
    "    show(\n",
    "        plot(y_exact(x),start,stop,rgbcolor=(1,0,0))+line([[xvals[index],sol[index]] for index in range(len(sol))]),\n",
    "        xmin=start,xmax = stop, ymax = sol_max, ymin = sol_min,\n",
    "        figsize=10\n",
    "    )"
   ]
  },
  {
   "cell_type": "markdown",
   "metadata": {},
   "source": [
    "## *Direction field vs Euler's method*"
   ]
  },
  {
   "cell_type": "markdown",
   "metadata": {},
   "source": [
    "In the next two cells, we plot the vector field for the vector with coordinates $(v_1,v_2)$, where both $v_i$ depend on $(x,y)$. The vector field puts at every point $(x,y)$ of the plane the vector \n",
    "$$ \\boldsymbol{v}(x,y) =  (v_1(x,y),\\ v_2(x,y) ).$$\n",
    "In the setting from the lecture, where we had\n",
    "$$ \\frac{dy}{dx} = f(x,y), $$\n",
    "it means that \n",
    "$$ f(x,y) = \\frac{v_2}{v_1}. $$\n",
    "That is, the slope of a vector is given by the ratio of second coordinate to the first one.\n",
    "\n",
    "The blue curve connects the points $(x_n, y_n)$ for $n\\geq 0$, obtained by the iterations of the Euler's method. By making the step size ($h$ in the lecture) sufficiently small, we get a good approximation to the solution of the equation, corresponding to the vector field."
   ]
  },
  {
   "cell_type": "code",
   "execution_count": 6,
   "metadata": {},
   "outputs": [],
   "source": [
    "from sage.ext.fast_eval import fast_float"
   ]
  },
  {
   "cell_type": "code",
   "execution_count": 20,
   "metadata": {},
   "outputs": [
    {
     "data": {
      "application/vnd.jupyter.widget-view+json": {
       "model_id": "385827a7535b41daa1f312b88458c9ab",
       "version_major": 2,
       "version_minor": 0
      },
      "text/plain": [
       "Interactive function <function _ at 0x7fc8de3580d0> with 6 widgets\n",
       "  f: EvalText(value='y', description='f', l…"
      ]
     },
     "metadata": {},
     "output_type": "display_data"
    }
   ],
   "source": [
    "@interact\n",
    "def _(f = input_box(default=y), g=input_box(default=-x*y+x^3-x),\n",
    "#       xmin=input_box(default=-1), xmax=input_box(default=1),\n",
    "#       ymin=input_box(default=-1), ymax=input_box(default=1),\n",
    "      x_start=input_box(default=0.5), y_start=input_box(default=0.5),\n",
    "      step_size= slider([2^m for m in range(-10,1)], default =0.125, label = r'$ h $ '),\n",
    "      steps=slider([2^m for m in range(0,11)], default =128, label = '# of steps: ') ):\n",
    "    xmin=-1\n",
    "    xmax=1\n",
    "    ymin=-1\n",
    "    ymax=1\n",
    "    ff = fast_float(f, 'x', 'y')\n",
    "    gg = fast_float(g, 'x', 'y')\n",
    "    steps = int(steps)\n",
    "\n",
    "    points = [ (x_start, y_start) ]\n",
    "    for i in range(steps):\n",
    "        xx, yy = points[-1]\n",
    "        try:\n",
    "            points.append( (xx + step_size * ff(xx,yy), yy + step_size * gg(xx,yy)) )\n",
    "        except (ValueError, ArithmeticError, TypeError):\n",
    "            break\n",
    "\n",
    "    starting_point = point(points[0], pointsize=50)\n",
    "    solution = line(points)\n",
    "    vector_field = plot_vector_field( (f,g), (x,xmin,xmax), (y,ymin,ymax) )\n",
    "\n",
    "    result = vector_field + starting_point + solution\n",
    "\n",
    "    pretty_print(\n",
    "        html(\n",
    "            r\"$\\displaystyle\\frac{dy}{dx} = \\frac gf = \\frac{%s}{%s}$  <br> \" % (latex(g),latex(y))\n",
    "        )\n",
    "    )\n",
    "    result.show(xmin=xmin,xmax=xmax,ymin=ymin,ymax=ymax, figsize=10)"
   ]
  }
 ],
 "metadata": {
  "kernelspec": {
   "display_name": "SageMath 9.4",
   "language": "sage",
   "name": "sagemath"
  },
  "language_info": {
   "codemirror_mode": {
    "name": "ipython",
    "version": 3
   },
   "file_extension": ".py",
   "mimetype": "text/x-python",
   "name": "python",
   "nbconvert_exporter": "python",
   "pygments_lexer": "ipython3",
   "version": "3.10.1"
  },
  "toc": {
   "nav_menu": {},
   "number_sections": true,
   "sideBar": true,
   "skip_h1_title": false,
   "title_cell": "Table of Contents",
   "title_sidebar": "Contents",
   "toc_cell": false,
   "toc_position": {},
   "toc_section_display": true,
   "toc_window_display": false
  },
  "varInspector": {
   "cols": {
    "lenName": 16,
    "lenType": 16,
    "lenVar": 40
   },
   "kernels_config": {
    "python": {
     "delete_cmd_postfix": "",
     "delete_cmd_prefix": "del ",
     "library": "var_list.py",
     "varRefreshCmd": "print(var_dic_list())"
    },
    "r": {
     "delete_cmd_postfix": ") ",
     "delete_cmd_prefix": "rm(",
     "library": "var_list.r",
     "varRefreshCmd": "cat(var_dic_list()) "
    }
   },
   "types_to_exclude": [
    "module",
    "function",
    "builtin_function_or_method",
    "instance",
    "_Feature"
   ],
   "window_display": false
  }
 },
 "nbformat": 4,
 "nbformat_minor": 4
}
