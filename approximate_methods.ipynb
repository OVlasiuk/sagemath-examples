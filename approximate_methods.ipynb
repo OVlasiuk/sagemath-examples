{
 "cells": [
  {
   "cell_type": "markdown",
   "metadata": {},
   "source": [
    "# Approximate methods for differential equations and integration"
   ]
  },
  {
   "cell_type": "markdown",
   "metadata": {},
   "source": [
    "These examples are adapted from Sage wiki: https://wiki.sagemath.org/SageWiki"
   ]
  },
  {
   "cell_type": "code",
   "execution_count": 1,
   "metadata": {},
   "outputs": [],
   "source": [
    "x,y = var('x,y')"
   ]
  },
  {
   "cell_type": "markdown",
   "metadata": {},
   "source": [
    "## Approximate integration"
   ]
  },
  {
   "cell_type": "markdown",
   "metadata": {},
   "source": [
    "The following two cells implement three integration methods: midpoint, trapezoidal, Simpson's rules. In all the three methods the interval $[-1,1]$ is partitioned into $n$ subintervals. The corresponding sums consist of n (midpoint) and n+1 terms (trapezoidal, Simpson's rule), respectively."
   ]
  },
  {
   "cell_type": "code",
   "execution_count": 2,
   "metadata": {},
   "outputs": [],
   "source": [
    "import scipy\n",
    "import numpy\n",
    "from scipy.special.orthogonal import p_roots, t_roots, u_roots\n",
    "from scipy.integrate import quad, trapz, simps\n",
    "from sage.ext.fast_eval import fast_float\n",
    "from numpy import linspace\n",
    "\n",
    "methods = {\n",
    "    'Midpoint': {'w': 1, 'xmin': -1, 'xmax': 1, \n",
    "        'func': lambda n: (linspace(-1r+1.0r/n,1r-1.0r/n,n),\n",
    "                           numpy.array([1.0r]*n)*2.0r/n\n",
    "                          ),\n",
    "                'nterms': lambda n: n},\n",
    "     'Trapezoid': {'w': 1, 'xmin': -1, 'xmax': 1, \n",
    "        'func': lambda n: (linspace(-1r,1r,n+1),\n",
    "                           numpy.array([1.0r]+[2.0r]*(n-1)+[1.0r])*1.0r/n\n",
    "                          ),\n",
    "                  'nterms': lambda n: n+1},\n",
    "     'Simpson': {'w': 1, 'xmin': -1, 'xmax': 1, \n",
    "        'func': lambda n: (linspace(-1r,1r,n+1), \n",
    "            numpy.array([1.0r]+[4.0r,2.0r]*int((n-1.0r)/2.0r)+[4.0r,1.0r])*2.0r/(3.0r*n)\n",
    "                          ),\n",
    "                'nterms': lambda n: n}}\n",
    "var(\"x\")\n",
    "def box(center, height, width2,**kwds):\n",
    "    return polygon([(center-width2,0),\n",
    "        (center+width2,0),(center+width2,height),(center-width2,height)],**kwds)    "
   ]
  },
  {
   "cell_type": "code",
   "execution_count": 3,
   "metadata": {},
   "outputs": [
    {
     "data": {
      "application/vnd.jupyter.widget-view+json": {
       "model_id": "7fadcf4bae68471fbfc4b9b7a31c44cc",
       "version_major": 2,
       "version_minor": 0
      },
      "text/plain": [
       "Interactive function <function weights at 0x7f6cccdd1700> with 3 widgets\n",
       "  n: TransformIntSlider(value=10, des…"
      ]
     },
     "metadata": {},
     "output_type": "display_data"
    }
   ],
   "source": [
    "@interact\n",
    "def weights(n=slider(2,30,2,default=10),\n",
    "            f=input_box(default=cos(x),type=SR),\n",
    "    show_method=[\"Trapezoid\",\"Midpoint\",\"Simpson\"]):\n",
    "    ff = fast_float(f,'x')\n",
    "    method = methods[show_method]\n",
    "    xcoords,w = (method['func'])(int(n))\n",
    "    xmin = method['xmin']\n",
    "    xmax = method['xmax']\n",
    "    plot_min = max(xmin, -10)\n",
    "    plot_max = min(xmax, 10)\n",
    "\n",
    "    coords = zip(xcoords,w)\n",
    "    max_weight = max(w)\n",
    "    coords_scaled = zip(xcoords,w/max_weight)\n",
    "\n",
    "    f_graph = plot(f,plot_min,plot_max)\n",
    "#     boxes = sum(box(x,ff(x),(xmax-xmin)/n/2,rgbcolor=(0.5,0.5,0.5),alpha=0.3) for x,w in coords)\n",
    "    stems = sum(line([(x,0),(x,ff(x))],rgbcolor=(1-y,1-y,1-y),\n",
    "        thickness=2,markersize=6,alpha=y) for x,y in coords_scaled)\n",
    "    points = sum([point([(x,0),\n",
    "        (x,ff(x))],rgbcolor='black',pointsize=30) for x,_ in coords])\n",
    "    graph = stems+points+f_graph#+boxes\n",
    "    show(graph,xmin=plot_min,xmax=plot_max,aspect_ratio=\"auto\")\n",
    "    approximation = sum([w*ff(x) for x,w in zip(xcoords,w)])\n",
    "    integral,integral_error = scipy.integrate.quad(ff, xmin, xmax)\n",
    "    x_val = linspace(-1, 1,n)\n",
    "    y_val = [*map(ff,x_val)]\n",
    "    trapezoid = integral-trapz(y_val, x_val)\n",
    "    simpson = integral-simps(y_val, x_val)\n",
    "    pretty_print(html(r\"$$\\sum_{i=1}^{i=%s} w_i f(x_i^*) \\Delta x = %s\\approx \\int_{-1}^{1}%s \\,dx = %s $$\"%\n",
    "                      ( (method['nterms'])(int(n)), approximation,  latex(f), integral)))\n",
    "    error_data = [integral-approximation, trapezoid, simpson, integral_error]\n",
    "    print(\"Errors for integration methods:\\n\")\n",
    "    print(\"Our implementation:\\n%s\\t %s\\n\\nBuilt-in:\\nquad\\t\\t %s\\ntrapz\\t\\t %s\\nsimps\\t\\t %s\" % (\n",
    "        show_method,integral-approximation,integral_error,trapezoid,simpson))"
   ]
  },
  {
   "cell_type": "markdown",
   "metadata": {},
   "source": [
    "In the formula above, $w_i$ are the weights on values of $f$, which show up in the integration rules. For example, we have seen that the n-th sum in the midpoint rule is\n",
    "$$ M_n = \\Delta x\\left(f(\\bar x_1) + f(\\bar x_2)+\\ldots+ f(\\bar x_n)  \\right). $$\n",
    "We interpret this expression as the sum\n",
    "$$ \\sum_{i=1}^n w_i f(\\bar x_i)\\,\\Delta x, $$\n",
    "where all the $w_i$ are equal to 1. On the other hand, for the trapezoidal rule, the n-th sum is\n",
    "$$ M_n = \\frac{\\Delta x}{2} \\left(f(x_0) + 2f(\\bar x_1)+\\ldots+ 2f(x_{n-1}) + f(x_{n})  \\right), $$\n",
    "so in this sum\n",
    "$$ \\sum_{i=0}^n w_i f(x_i)\\,\\Delta x, $$\n",
    "$w_i$ are equal to \n",
    "$$ \\frac 12, \\ 1, \\ 1, \\ 1, \\ldots, 1,\\ 1, \\ \\frac12. $$\n",
    "(Just multiply the 1/2 in front with the coefficients at $f(x_i)$.)"
   ]
  },
  {
   "cell_type": "markdown",
   "metadata": {},
   "source": [
    "##  Simple case of Euler's method"
   ]
  },
  {
   "cell_type": "markdown",
   "metadata": {},
   "source": [
    "The following cell implements Euler's method and compares the approximate solution obtained with it (blue) to the exact solution (red)."
   ]
  },
  {
   "cell_type": "code",
   "execution_count": 4,
   "metadata": {},
   "outputs": [
    {
     "data": {
      "application/vnd.jupyter.widget-view+json": {
       "model_id": "95ddc4b1e4be409998857b5977224a2d",
       "version_major": 2,
       "version_minor": 0
      },
      "text/plain": [
       "Interactive function <function euler_method at 0x7f6cc00c8d30> with 6 widgets\n",
       "  y_exact_in: TransformText(valu…"
      ]
     },
     "metadata": {},
     "output_type": "display_data"
    }
   ],
   "source": [
    "@interact\n",
    "def euler_method(\n",
    "    y_exact_in = input_box('exp(x)', type = str, label = 'Exact solution = '),\n",
    "    y_prime_in = input_box('exp(x)', type = str, label = \"y' = \"),\n",
    "    start = input_box(0.0, label = 'x starting value: '),\n",
    "    startval = input_box(1.0, label = 'y starting value: '),\n",
    "    stop = input_box(3.0, label = 'x stopping value: '),\n",
    "    nsteps = slider([2^m for m in range(0,10)], default = 10, label = 'Number of steps: '),\n",
    "):\n",
    "    y_exact = lambda x: eval(y_exact_in)\n",
    "#     dy/dx = F(x,y)\n",
    "    y_prime = lambda x,y: eval(y_prime_in)\n",
    "    stepsize = float((stop-start)/nsteps)\n",
    "    sol = [startval]+[0.0]*nsteps\n",
    "    xvals = [start]+[0.0]*nsteps\n",
    "    for step in range(nsteps):\n",
    "        sol[step+1] = sol[step] + stepsize*y_prime(xvals[step],sol[step])\n",
    "        xvals[step+1] = xvals[step] + stepsize\n",
    "    sol_max = max(sol + [find_local_maximum(y_exact,start,stop)[0]])\n",
    "    sol_min = min(sol + [find_local_minimum(y_exact,start,stop)[0]])\n",
    "    show(plot(y_exact(x),start,stop,rgbcolor=(1,0,0))+line([[xvals[index],sol[index]] for index in range(len(sol))]),xmin=start,xmax = stop, ymax = sol_max, ymin = sol_min)"
   ]
  },
  {
   "cell_type": "markdown",
   "metadata": {},
   "source": [
    "## Direction field compared to Euler's method"
   ]
  },
  {
   "cell_type": "markdown",
   "metadata": {},
   "source": [
    "In the next two cells, we plot the vector field for the vector with coordinates $(f,g)$, where both $f$ and $g$ depend on $(x,y)$. The vector field puts at every point $(x,y)$ of the plain vector \n",
    "$$ (f(x,y), g(x,y).$$\n",
    "In the setting from the lecture, where we had\n",
    "$$ \\frac{dy}{dx} = F(x,y), $$\n",
    "this means that \n",
    "$$ F(x,y) = \\frac{g(x,y)}{f(x,y)}. $$\n",
    "That is, the slope of a vector is given by the ratio of second coordinate to the first one.\n",
    "\n",
    "The blue curve connects the points $(x_k, y_k)$ for $k\\geq 0$, obtained by the iterations of the Euler's method. By making the step size ($\\Delta x$ in the lecture) sufficiently small, we get a good approximation to the solution of the equation, corresponding to the vector field."
   ]
  },
  {
   "cell_type": "code",
   "execution_count": 5,
   "metadata": {},
   "outputs": [],
   "source": [
    "from sage.ext.fast_eval import fast_float"
   ]
  },
  {
   "cell_type": "code",
   "execution_count": 6,
   "metadata": {},
   "outputs": [
    {
     "data": {
      "application/vnd.jupyter.widget-view+json": {
       "model_id": "047537654ba249c0ad7b317338202080",
       "version_major": 2,
       "version_minor": 0
      },
      "text/plain": [
       "Interactive function <function _ at 0x7f6cbffb88b0> with 10 widgets\n",
       "  f: EvalText(value='y', description='f', …"
      ]
     },
     "metadata": {},
     "output_type": "display_data"
    }
   ],
   "source": [
    "@interact\n",
    "def _(f = input_box(default=y), g=input_box(default=-x*y+x^3-x),\n",
    "      xmin=input_box(default=-1), xmax=input_box(default=1),\n",
    "      ymin=input_box(default=-1), ymax=input_box(default=1),\n",
    "      start_x=input_box(default=0.5), start_y=input_box(default=0.5),\n",
    "      step_size= slider([2^m for m in range(-10,1)], default =0.125, label = r'$\\Delta x$ '),\n",
    "      steps=slider([2^m for m in range(0,11)], default =128, label = 'Number of steps: ') ):\n",
    "    ff = fast_float(f, 'x', 'y')\n",
    "    gg = fast_float(g, 'x', 'y')\n",
    "    steps = int(steps)\n",
    "\n",
    "    points = [ (start_x, start_y) ]\n",
    "    for i in range(steps):\n",
    "        xx, yy = points[-1]\n",
    "        try:\n",
    "            points.append( (xx + step_size * ff(xx,yy), yy + step_size * gg(xx,yy)) )\n",
    "        except (ValueError, ArithmeticError, TypeError):\n",
    "            break\n",
    "\n",
    "    starting_point = point(points[0], pointsize=50)\n",
    "    solution = line(points)\n",
    "    vector_field = plot_vector_field( (f,g), (x,xmin,xmax), (y,ymin,ymax) )\n",
    "\n",
    "    result = vector_field + starting_point + solution\n",
    "\n",
    "    pretty_print(\n",
    "        html(\n",
    "            r\"$\\displaystyle\\frac{dy}{dx} = \\frac gf = \\frac{%s}{%s}$  <br> \" % (latex(g),latex(y))\n",
    "        )\n",
    "    )\n",
    "    result.show(xmin=xmin,xmax=xmax,ymin=ymin,ymax=ymax)"
   ]
  },
  {
   "cell_type": "code",
   "execution_count": null,
   "metadata": {},
   "outputs": [],
   "source": []
  },
  {
   "cell_type": "code",
   "execution_count": null,
   "metadata": {},
   "outputs": [],
   "source": []
  }
 ],
 "metadata": {
  "kernelspec": {
   "display_name": "SageMath 9.1",
   "language": "sage",
   "name": "sagemath"
  },
  "language_info": {
   "codemirror_mode": {
    "name": "ipython",
    "version": 3
   },
   "file_extension": ".py",
   "mimetype": "text/x-python",
   "name": "python",
   "nbconvert_exporter": "python",
   "pygments_lexer": "ipython3",
   "version": "3.8.5"
  },
  "toc": {
   "nav_menu": {},
   "number_sections": true,
   "sideBar": true,
   "skip_h1_title": false,
   "title_cell": "Table of Contents",
   "title_sidebar": "Contents",
   "toc_cell": false,
   "toc_position": {},
   "toc_section_display": true,
   "toc_window_display": false
  },
  "varInspector": {
   "cols": {
    "lenName": 16,
    "lenType": 16,
    "lenVar": 40
   },
   "kernels_config": {
    "python": {
     "delete_cmd_postfix": "",
     "delete_cmd_prefix": "del ",
     "library": "var_list.py",
     "varRefreshCmd": "print(var_dic_list())"
    },
    "r": {
     "delete_cmd_postfix": ") ",
     "delete_cmd_prefix": "rm(",
     "library": "var_list.r",
     "varRefreshCmd": "cat(var_dic_list()) "
    }
   },
   "types_to_exclude": [
    "module",
    "function",
    "builtin_function_or_method",
    "instance",
    "_Feature"
   ],
   "window_display": false
  }
 },
 "nbformat": 4,
 "nbformat_minor": 4
}
