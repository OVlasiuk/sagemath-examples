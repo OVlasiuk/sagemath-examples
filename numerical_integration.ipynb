{
 "cells": [
  {
   "cell_type": "markdown",
   "metadata": {},
   "source": [
    "# Approximate methods for differential equations and integration"
   ]
  },
  {
   "cell_type": "markdown",
   "metadata": {},
   "source": [
    "These examples are adapted from Sage wiki: https://wiki.sagemath.org/SageWiki"
   ]
  },
  {
   "cell_type": "code",
   "execution_count": 1,
   "metadata": {},
   "outputs": [],
   "source": [
    "x,y = var('x,y')"
   ]
  },
  {
   "cell_type": "markdown",
   "metadata": {},
   "source": [
    "## Approximate integration"
   ]
  },
  {
   "cell_type": "markdown",
   "metadata": {},
   "source": [
    "The following two cells implement three integration methods: midpoint, trapezoidal, Simpson's rules. In all the three methods the interval $[-1,1]$ is partitioned into $n$ subintervals. The corresponding sums consist of n (midpoint) and n+1 terms (trapezoidal, Simpson's rule), respectively."
   ]
  },
  {
   "cell_type": "code",
   "execution_count": 2,
   "metadata": {},
   "outputs": [],
   "source": [
    "import scipy\n",
    "import numpy\n",
    "from scipy.special.orthogonal import p_roots, t_roots, u_roots\n",
    "from scipy.integrate import quad, trapz, simps\n",
    "from sage.ext.fast_eval import fast_float\n",
    "from numpy import linspace\n",
    "\n",
    "methods = {\n",
    "    'Midpoint': {'w': 1, 'xmin': -1, 'xmax': 1, \n",
    "        'func': lambda n: (linspace(-1r+1.0r/n,1r-1.0r/n,n),\n",
    "                           numpy.array([1.0r]*n)*2.0r/n\n",
    "                          ),\n",
    "                'nterms': lambda n: n},\n",
    "     'Trapezoid': {'w': 1, 'xmin': -1, 'xmax': 1, \n",
    "        'func': lambda n: (linspace(-1r,1r,n+1),\n",
    "                           numpy.array([1.0r]+[2.0r]*(n-1)+[1.0r])*1.0r/n\n",
    "                          ),\n",
    "                  'nterms': lambda n: n+1},\n",
    "     'Simpson': {'w': 1, 'xmin': -1, 'xmax': 1, \n",
    "        'func': lambda n: (linspace(-1r,1r,n+1), \n",
    "            numpy.array([1.0r]+[4.0r,2.0r]*int((n-1.0r)/2.0r)+[4.0r,1.0r])*2.0r/(3.0r*n)\n",
    "                          ),\n",
    "                'nterms': lambda n: n}}\n",
    "var(\"x\")\n",
    "def box(center, height, width2,**kwds):\n",
    "    return polygon([(center-width2,0),\n",
    "        (center+width2,0),(center+width2,height),(center-width2,height)],**kwds)    "
   ]
  },
  {
   "cell_type": "code",
   "execution_count": 3,
   "metadata": {},
   "outputs": [
    {
     "data": {
      "application/vnd.jupyter.widget-view+json": {
       "model_id": "408669ea1c094529b51e09cf7b833b49",
       "version_major": 2,
       "version_minor": 0
      },
      "text/plain": [
       "Interactive function <function weights at 0x7fa4a5259820> with 3 widgets\n",
       "  n: TransformIntSlider(value=10, des…"
      ]
     },
     "metadata": {},
     "output_type": "display_data"
    }
   ],
   "source": [
    "@interact\n",
    "def weights(n=slider(2,30,2,default=10),\n",
    "            f=input_box(default=cos(x),type=SR),\n",
    "    show_method=[\"Trapezoid\",\"Midpoint\",\"Simpson\"]):\n",
    "    ff = fast_float(f,'x')\n",
    "    method = methods[show_method]\n",
    "    xcoords,w = (method['func'])(int(n))\n",
    "    xmin = method['xmin']\n",
    "    xmax = method['xmax']\n",
    "    plot_min = max(xmin, -10)\n",
    "    plot_max = min(xmax, 10)\n",
    "\n",
    "    coords = zip(xcoords,w)\n",
    "    max_weight = max(w)\n",
    "    coords_scaled = zip(xcoords,w/max_weight)\n",
    "\n",
    "    f_graph = plot(f,plot_min,plot_max)\n",
    "#     boxes = sum(box(x,ff(x),(xmax-xmin)/n/2,rgbcolor=(0.5,0.5,0.5),alpha=0.3) for x,w in coords)\n",
    "    stems = sum(line([(x,0),(x,ff(x))],rgbcolor=(1-y,1-y,1-y),\n",
    "        thickness=2,markersize=6,alpha=y) for x,y in coords_scaled)\n",
    "    points = sum([point([(x,0),\n",
    "        (x,ff(x))],rgbcolor='black',pointsize=30) for x,_ in coords])\n",
    "    graph = stems+points+f_graph#+boxes\n",
    "    show(graph,xmin=plot_min,xmax=plot_max,aspect_ratio=\"auto\")\n",
    "    approximation = sum([w*ff(x) for x,w in zip(xcoords,w)])\n",
    "    integral,integral_error = scipy.integrate.quad(ff, xmin, xmax)\n",
    "    x_val = linspace(-1, 1,n)\n",
    "    y_val = [*map(ff,x_val)]\n",
    "    trapezoid = integral-trapz(y_val, x_val)\n",
    "    simpson = integral-simps(y_val, x_val)\n",
    "    pretty_print(html(r\"$$\\sum_{i=1}^{i=%s} w_i f(x_i^*) \\Delta x = %s\\approx \\int_{-1}^{1}%s \\,dx = %s $$\"%\n",
    "                      ( (method['nterms'])(int(n)), approximation,  latex(f), integral)))\n",
    "    error_data = [integral-approximation, trapezoid, simpson, integral_error]\n",
    "    print(\"Errors for integration methods:\\n\")\n",
    "    print(\"Our implementation:\\n%s\\t %s\\n\\nBuilt-in:\\nquad\\t\\t %s\\ntrapz\\t\\t %s\\nsimps\\t\\t %s\" % (\n",
    "        show_method,integral-approximation,integral_error,trapezoid,simpson))"
   ]
  },
  {
   "cell_type": "markdown",
   "metadata": {},
   "source": [
    "In the formula above, $w_i$ are the weights on values of $f$, which show up in the integration rules. For example, we have seen that the n-th sum in the midpoint rule is\n",
    "$$ M_n = \\Delta x\\left(f(\\bar x_1) + f(\\bar x_2)+\\ldots+ f(\\bar x_n)  \\right). $$\n",
    "We interpret this expression as the sum\n",
    "$$ \\sum_{i=1}^n w_i f(\\bar x_i)\\,\\Delta x, $$\n",
    "where all the $w_i$ are equal to 1. On the other hand, for the trapezoidal rule, the n-th sum is\n",
    "$$ M_n = \\frac{\\Delta x}{2} \\left(f(x_0) + 2f(\\bar x_1)+\\ldots+ 2f(x_{n-1}) + f(x_{n})  \\right), $$\n",
    "so in this sum\n",
    "$$ \\sum_{i=0}^n w_i f(x_i)\\,\\Delta x, $$\n",
    "$w_i$ are equal to \n",
    "$$ \\frac 12, \\ 1, \\ 1, \\ 1, \\ldots, 1,\\ 1, \\ \\frac12. $$\n",
    "(Just multiply the 1/2 in front with the coefficients at $f(x_i)$.)"
   ]
  }
 ],
 "metadata": {
  "kernelspec": {
   "display_name": "SageMath 9.4",
   "language": "sage",
   "name": "sagemath"
  },
  "language_info": {
   "codemirror_mode": {
    "name": "ipython",
    "version": 3
   },
   "file_extension": ".py",
   "mimetype": "text/x-python",
   "name": "python",
   "nbconvert_exporter": "python",
   "pygments_lexer": "ipython3",
   "version": "3.10.1"
  },
  "toc": {
   "nav_menu": {},
   "number_sections": true,
   "sideBar": true,
   "skip_h1_title": false,
   "title_cell": "Table of Contents",
   "title_sidebar": "Contents",
   "toc_cell": false,
   "toc_position": {},
   "toc_section_display": true,
   "toc_window_display": false
  },
  "varInspector": {
   "cols": {
    "lenName": 16,
    "lenType": 16,
    "lenVar": 40
   },
   "kernels_config": {
    "python": {
     "delete_cmd_postfix": "",
     "delete_cmd_prefix": "del ",
     "library": "var_list.py",
     "varRefreshCmd": "print(var_dic_list())"
    },
    "r": {
     "delete_cmd_postfix": ") ",
     "delete_cmd_prefix": "rm(",
     "library": "var_list.r",
     "varRefreshCmd": "cat(var_dic_list()) "
    }
   },
   "types_to_exclude": [
    "module",
    "function",
    "builtin_function_or_method",
    "instance",
    "_Feature"
   ],
   "window_display": false
  }
 },
 "nbformat": 4,
 "nbformat_minor": 4
}
